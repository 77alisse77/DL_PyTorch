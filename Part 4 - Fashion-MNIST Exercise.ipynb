{
 "cells": [
  {
   "cell_type": "markdown",
   "metadata": {},
   "source": [
    "# Classifying Fashion-MNIST\n",
    "\n",
    "Now it's your turn to build and train a neural network. You'll be using the [Fashion-MNIST dataset](https://github.com/zalandoresearch/fashion-mnist), a drop-in replacement for the MNIST dataset. MNIST is actually quite trivial with neural networks where you can easily achieve better than 97% accuracy. Fashion-MNIST is a set of 28x28 greyscale images of clothes. It's more complex than MNIST, so it's a better representation of the actual performance of your network, and a better representation of datasets you'll use in the real world.\n",
    "\n",
    "<img src='assets/fashion-mnist-sprite.png' width=500px>\n",
    "\n",
    "In this notebook, you'll build your own neural network. For the most part, you could just copy and paste the code from Part 3, but you wouldn't be learning. It's important for you to write the code yourself and get it to work. Feel free to consult the previous notebook though as you work through this.\n",
    "\n",
    "First off, let's load the dataset through torchvision."
   ]
  },
  {
   "cell_type": "code",
   "execution_count": 3,
   "metadata": {},
   "outputs": [
    {
     "name": "stdout",
     "output_type": "stream",
     "text": [
      "Downloading http://fashion-mnist.s3-website.eu-central-1.amazonaws.com/train-images-idx3-ubyte.gz\n",
      "Downloading http://fashion-mnist.s3-website.eu-central-1.amazonaws.com/train-labels-idx1-ubyte.gz\n",
      "Downloading http://fashion-mnist.s3-website.eu-central-1.amazonaws.com/t10k-images-idx3-ubyte.gz\n",
      "Downloading http://fashion-mnist.s3-website.eu-central-1.amazonaws.com/t10k-labels-idx1-ubyte.gz\n",
      "Processing...\n",
      "Done!\n"
     ]
    }
   ],
   "source": [
    "import torch\n",
    "from torchvision import datasets, transforms\n",
    "import helper\n",
    "\n",
    "# Define a transform to normalize the data\n",
    "transform = transforms.Compose([transforms.ToTensor(),\n",
    "                                transforms.Normalize((0.5, 0.5, 0.5), (0.5, 0.5, 0.5))])\n",
    "# Download and load the training data\n",
    "trainset = datasets.FashionMNIST('F_MNIST_data/', download=True, train=True, transform=transform)\n",
    "trainloader = torch.utils.data.DataLoader(trainset, batch_size=64, shuffle=True)\n",
    "\n",
    "# Download and load the test data\n",
    "testset = datasets.FashionMNIST('F_MNIST_data/', download=True, train=False, transform=transform)\n",
    "testloader = torch.utils.data.DataLoader(testset, batch_size=64, shuffle=True)"
   ]
  },
  {
   "cell_type": "markdown",
   "metadata": {},
   "source": [
    "Here we can see one of the images."
   ]
  },
  {
   "cell_type": "code",
   "execution_count": 6,
   "metadata": {},
   "outputs": [
    {
     "data": {
      "image/png": "[encoded data removed]",
      "text/plain": [
       "<matplotlib.figure.Figure at 0x9c05630>"
      ]
     },
     "metadata": {
      "image/png": {
       "height": 233,
       "width": 233
      }
     },
     "output_type": "display_data"
    }
   ],
   "source": [
    "image, label = next(iter(trainloader))\n",
    "helper.imshow(image[0,:]);"
   ]
  },
  {
   "cell_type": "markdown",
   "metadata": {},
   "source": [
    "With the data loaded, it's time to import the necessary packages."
   ]
  },
  {
   "cell_type": "code",
   "execution_count": 5,
   "metadata": {
    "collapsed": true
   },
   "outputs": [],
   "source": [
    "%matplotlib inline\n",
    "%config InlineBackend.figure_format = 'retina'\n",
    "\n",
    "import matplotlib.pyplot as plt\n",
    "import numpy as np\n",
    "import time\n",
    "\n",
    "import torch\n",
    "from torch import nn\n",
    "from torch import optim\n",
    "import torch.nn.functional as F\n",
    "from torchvision import datasets, transforms\n",
    "\n",
    "import helper"
   ]
  },
  {
   "cell_type": "markdown",
   "metadata": {},
   "source": [
    "## Building the network\n",
    "\n",
    "Here you should define your network. As with MNIST, each image is 28x28 which is a total of 784 pixels, and there are 10 classes. You should include at least one hidden layer. We suggest you use ReLU activations for the layers and to return the logits from the forward pass. It's up to you how many layers you add and the size of those layers."
   ]
  },
  {
   "cell_type": "code",
   "execution_count": 8,
   "metadata": {},
   "outputs": [],
   "source": [
    "# TODO: Define your network architecture here\n",
    "from collections import OrderedDict\n",
    "\n",
    "# Hyperparameters for our network\n",
    "input_size = 784\n",
    "hidden_sizes = [500, 222]\n",
    "output_size = 10\n",
    "\n",
    "# Build a feed-forward network\n",
    "model = nn.Sequential(OrderedDict([\n",
    "                      ('fc1', nn.Linear(input_size, hidden_sizes[0])),\n",
    "                      ('relu1', nn.ReLU()),\n",
    "                      ('fc2', nn.Linear(hidden_sizes[0], hidden_sizes[1])),\n",
    "                      ('relu2', nn.ReLU()),\n",
    "                      ('logits', nn.Linear(hidden_sizes[1], output_size))]))"
   ]
  },
  {
   "cell_type": "markdown",
   "metadata": {},
   "source": [
    "# Train the network\n",
    "\n",
    "Now you should create your network and train it. First you'll want to define [the criterion](http://pytorch.org/docs/master/nn.html#loss-functions) ( something like `nn.CrossEntropyLoss`) and [the optimizer](http://pytorch.org/docs/master/optim.html) (typically `optim.SGD` or `optim.Adam`).\n",
    "\n",
    "Then write the training code. Remember the training pass is a fairly straightforward process:\n",
    "\n",
    "* Make a forward pass through the network to get the logits \n",
    "* Use the logits to calculate the loss\n",
    "* Perform a backward pass through the network with `loss.backward()` to calculate the gradients\n",
    "* Take a step with the optimizer to update the weights\n",
    "\n",
    "By adjusting the hyperparameters (hidden units, learning rate, etc), you should be able to get the training loss below 0.4."
   ]
  },
  {
   "cell_type": "code",
   "execution_count": 9,
   "metadata": {
    "collapsed": true
   },
   "outputs": [],
   "source": [
    "# TODO: Create the network, define the criterion and optimizer\n",
    "criterion = nn.CrossEntropyLoss()\n",
    "optimizer = optim.Adam(model.parameters(), lr=0.01)"
   ]
  },
  {
   "cell_type": "code",
   "execution_count": 10,
   "metadata": {},
   "outputs": [
    {
     "name": "stdout",
     "output_type": "stream",
     "text": [
      "Epoch: 1/3...  Loss: 1.3077\n",
      "Epoch: 1/3...  Loss: 0.6750\n",
      "Epoch: 1/3...  Loss: 0.6856\n",
      "Epoch: 1/3...  Loss: 0.5991\n",
      "Epoch: 1/3...  Loss: 0.5474\n",
      "Epoch: 1/3...  Loss: 0.5801\n",
      "Epoch: 1/3...  Loss: 0.5386\n",
      "Epoch: 1/3...  Loss: 0.5619\n",
      "Epoch: 1/3...  Loss: 0.5574\n",
      "Epoch: 1/3...  Loss: 0.5538\n",
      "Epoch: 1/3...  Loss: 0.5164\n",
      "Epoch: 1/3...  Loss: 0.5466\n",
      "Epoch: 1/3...  Loss: 0.4784\n",
      "Epoch: 1/3...  Loss: 0.5637\n",
      "Epoch: 1/3...  Loss: 0.5309\n",
      "Epoch: 1/3...  Loss: 0.5253\n",
      "Epoch: 1/3...  Loss: 0.5066\n",
      "Epoch: 1/3...  Loss: 0.4934\n",
      "Epoch: 1/3...  Loss: 0.4959\n",
      "Epoch: 1/3...  Loss: 0.5048\n",
      "Epoch: 1/3...  Loss: 0.5363\n",
      "Epoch: 1/3...  Loss: 0.4753\n",
      "Epoch: 1/3...  Loss: 0.5192\n",
      "Epoch: 2/3...  Loss: 0.2360\n",
      "Epoch: 2/3...  Loss: 0.4333\n",
      "Epoch: 2/3...  Loss: 0.4445\n",
      "Epoch: 2/3...  Loss: 0.5033\n",
      "Epoch: 2/3...  Loss: 0.4679\n",
      "Epoch: 2/3...  Loss: 0.4651\n",
      "Epoch: 2/3...  Loss: 0.4579\n",
      "Epoch: 2/3...  Loss: 0.4525\n",
      "Epoch: 2/3...  Loss: 0.4838\n",
      "Epoch: 2/3...  Loss: 0.4730\n",
      "Epoch: 2/3...  Loss: 0.4582\n",
      "Epoch: 2/3...  Loss: 0.4338\n",
      "Epoch: 2/3...  Loss: 0.4672\n",
      "Epoch: 2/3...  Loss: 0.4751\n",
      "Epoch: 2/3...  Loss: 0.4713\n",
      "Epoch: 2/3...  Loss: 0.4439\n",
      "Epoch: 2/3...  Loss: 0.4282\n",
      "Epoch: 2/3...  Loss: 0.4590\n",
      "Epoch: 2/3...  Loss: 0.4644\n",
      "Epoch: 2/3...  Loss: 0.4510\n",
      "Epoch: 2/3...  Loss: 0.4952\n",
      "Epoch: 2/3...  Loss: 0.4279\n",
      "Epoch: 2/3...  Loss: 0.4225\n",
      "Epoch: 3/3...  Loss: 0.0432\n",
      "Epoch: 3/3...  Loss: 0.4357\n",
      "Epoch: 3/3...  Loss: 0.4392\n",
      "Epoch: 3/3...  Loss: 0.4561\n",
      "Epoch: 3/3...  Loss: 0.4198\n",
      "Epoch: 3/3...  Loss: 0.4766\n",
      "Epoch: 3/3...  Loss: 0.4433\n",
      "Epoch: 3/3...  Loss: 0.4746\n",
      "Epoch: 3/3...  Loss: 0.4459\n",
      "Epoch: 3/3...  Loss: 0.4205\n",
      "Epoch: 3/3...  Loss: 0.4410\n",
      "Epoch: 3/3...  Loss: 0.4019\n",
      "Epoch: 3/3...  Loss: 0.4646\n",
      "Epoch: 3/3...  Loss: 0.4238\n",
      "Epoch: 3/3...  Loss: 0.4385\n",
      "Epoch: 3/3...  Loss: 0.4036\n",
      "Epoch: 3/3...  Loss: 0.4221\n",
      "Epoch: 3/3...  Loss: 0.4348\n",
      "Epoch: 3/3...  Loss: 0.4064\n",
      "Epoch: 3/3...  Loss: 0.4305\n",
      "Epoch: 3/3...  Loss: 0.4103\n",
      "Epoch: 3/3...  Loss: 0.4191\n",
      "Epoch: 3/3...  Loss: 0.3405\n",
      "Epoch: 3/3...  Loss: 0.4357\n"
     ]
    }
   ],
   "source": [
    "# TODO: Train the network here\n",
    "epochs = 3\n",
    "print_every = 40\n",
    "steps = 0\n",
    "for e in range(epochs):\n",
    "    running_loss = 0\n",
    "    for images, labels in iter(trainloader):\n",
    "        steps += 1\n",
    "        # Flatten MNIST images into a 784 long vector\n",
    "        images.resize_(images.size()[0], 784)\n",
    "        \n",
    "        optimizer.zero_grad()\n",
    "        \n",
    "        # Forward and backward passes\n",
    "        output = model.forward(images)\n",
    "        loss = criterion(output, labels)\n",
    "        loss.backward()\n",
    "        optimizer.step()\n",
    "        \n",
    "        running_loss += loss.item()\n",
    "        \n",
    "        if steps % print_every == 0:\n",
    "            print(\"Epoch: {}/{}... \".format(e+1, epochs),\n",
    "                  \"Loss: {:.4f}\".format(running_loss/print_every))\n",
    "            \n",
    "            running_loss = 0"
   ]
  },
  {
   "cell_type": "code",
   "execution_count": 11,
   "metadata": {},
   "outputs": [
    {
     "data": {
      "image/png": "[encoded data removed]",
      "text/plain": [
       "<matplotlib.figure.Figure at 0x9cb7e10>"
      ]
     },
     "metadata": {
      "image/png": {
       "height": 204,
       "width": 423
      }
     },
     "output_type": "display_data"
    }
   ],
   "source": [
    "# Test out your network!\n",
    "\n",
    "dataiter = iter(testloader)\n",
    "images, labels = dataiter.next()\n",
    "img = images[0]\n",
    "# Convert 2D image to 1D vector\n",
    "img = img.resize_(1, 784)\n",
    "\n",
    "# TODO: Calculate the class probabilities (softmax) for img\n",
    "# Turn off gradients to speed up this part\n",
    "with torch.no_grad():\n",
    "    logits = model.forward(img)\n",
    "\n",
    "ps = F.softmax(logits, dim=1)\n",
    "\n",
    "# Plot the image and probabilities\n",
    "helper.view_classify(img.resize_(1, 28, 28), ps, version='Fashion')"
   ]
  },
  {
   "cell_type": "markdown",
   "metadata": {},
   "source": [
    "Now that your network is trained, you'll want to save it to disk so you can load it later instead of training it again. Obviously, it's impractical to train a network every time you need one. In practice, you'll train it once, save the model, then reload it for further training or making predictions. In the next part, I'll show you how to save and load trained models."
   ]
  }
 ],
 "metadata": {
  "kernelspec": {
   "display_name": "Python 3",
   "language": "python",
   "name": "python3"
  },
  "language_info": {
   "codemirror_mode": {
    "name": "ipython",
    "version": 3
   },
   "file_extension": ".py",
   "mimetype": "text/x-python",
   "name": "python",
   "nbconvert_exporter": "python",
   "pygments_lexer": "ipython3",
   "version": "3.6.1"
  }
 },
 "nbformat": 4,
 "nbformat_minor": 2
}
